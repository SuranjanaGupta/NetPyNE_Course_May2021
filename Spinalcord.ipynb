{
  "nbformat": 4,
  "nbformat_minor": 0,
  "metadata": {
    "colab": {
      "name": "Spinalcord.ipynb",
      "provenance": [],
      "authorship_tag": "ABX9TyMKlD7Mv3hKO70DllVnNLR8",
      "include_colab_link": true
    },
    "kernelspec": {
      "name": "python3",
      "display_name": "Python 3"
    },
    "language_info": {
      "name": "python"
    }
  },
  "cells": [
    {
      "cell_type": "markdown",
      "metadata": {
        "id": "view-in-github",
        "colab_type": "text"
      },
      "source": [
        "<a href=\"https://colab.research.google.com/github/SuranjanaGupta/NetPyNE_Course_May2021/blob/main/Spinalcord.ipynb\" target=\"_parent\"><img src=\"https://colab.research.google.com/assets/colab-badge.svg\" alt=\"Open In Colab\"/></a>"
      ]
    },
    {
      "cell_type": "markdown",
      "metadata": {
        "id": "nbGBUVFvMS7v"
      },
      "source": [
        "Install Software"
      ]
    },
    {
      "cell_type": "code",
      "metadata": {
        "colab": {
          "base_uri": "https://localhost:8080/"
        },
        "id": "Nh_Ctf8MKinE",
        "outputId": "2cfa2c4e-5362-4944-d14b-c2451a79191c"
      },
      "source": [
        "!pip install neuron\n",
        "!pip install netpyne"
      ],
      "execution_count": 1,
      "outputs": [
        {
          "output_type": "stream",
          "text": [
            "Collecting neuron\n",
            "\u001b[?25l  Downloading https://files.pythonhosted.org/packages/14/f4/ea50608c7633c286859d6cce0aad621da22a8da7ff9787efc8bb71fe0597/NEURON-8.0.0-cp37-cp37m-manylinux1_x86_64.whl (12.6MB)\n",
            "\u001b[K     |████████████████████████████████| 12.6MB 17.7MB/s \n",
            "\u001b[?25hRequirement already satisfied: numpy>=1.9.3 in /usr/local/lib/python3.7/dist-packages (from neuron) (1.19.5)\n",
            "Installing collected packages: neuron\n",
            "Successfully installed neuron-8.0.0\n",
            "Collecting netpyne\n",
            "\u001b[?25l  Downloading https://files.pythonhosted.org/packages/9e/24/0f9d685a3fbcbca0d86d9ca6521465c43725d9e23760c91524fe77191f12/netpyne-1.0.0.2-py2.py3-none-any.whl (312kB)\n",
            "\u001b[K     |████████████████████████████████| 317kB 26.8MB/s \n",
            "\u001b[?25hCollecting matplotlib-scalebar\n",
            "  Downloading https://files.pythonhosted.org/packages/51/a4/cd254234c35f3591361988e89ab132ee14789f2ebe1ede621d63f5241f00/matplotlib_scalebar-0.7.2-py2.py3-none-any.whl\n",
            "Requirement already satisfied: numpy in /usr/local/lib/python3.7/dist-packages (from netpyne) (1.19.5)\n",
            "Requirement already satisfied: future in /usr/local/lib/python3.7/dist-packages (from netpyne) (0.16.0)\n",
            "Requirement already satisfied: scipy in /usr/local/lib/python3.7/dist-packages (from netpyne) (1.4.1)\n",
            "Requirement already satisfied: bokeh in /usr/local/lib/python3.7/dist-packages (from netpyne) (2.3.2)\n",
            "Requirement already satisfied: matplotlib in /usr/local/lib/python3.7/dist-packages (from netpyne) (3.2.2)\n",
            "Requirement already satisfied: pandas in /usr/local/lib/python3.7/dist-packages (from netpyne) (1.1.5)\n",
            "Requirement already satisfied: packaging>=16.8 in /usr/local/lib/python3.7/dist-packages (from bokeh->netpyne) (20.9)\n",
            "Requirement already satisfied: python-dateutil>=2.1 in /usr/local/lib/python3.7/dist-packages (from bokeh->netpyne) (2.8.1)\n",
            "Requirement already satisfied: typing-extensions>=3.7.4 in /usr/local/lib/python3.7/dist-packages (from bokeh->netpyne) (3.7.4.3)\n",
            "Requirement already satisfied: PyYAML>=3.10 in /usr/local/lib/python3.7/dist-packages (from bokeh->netpyne) (3.13)\n",
            "Requirement already satisfied: pillow>=7.1.0 in /usr/local/lib/python3.7/dist-packages (from bokeh->netpyne) (7.1.2)\n",
            "Requirement already satisfied: tornado>=5.1 in /usr/local/lib/python3.7/dist-packages (from bokeh->netpyne) (5.1.1)\n",
            "Requirement already satisfied: Jinja2>=2.9 in /usr/local/lib/python3.7/dist-packages (from bokeh->netpyne) (2.11.3)\n",
            "Requirement already satisfied: pyparsing!=2.0.4,!=2.1.2,!=2.1.6,>=2.0.1 in /usr/local/lib/python3.7/dist-packages (from matplotlib->netpyne) (2.4.7)\n",
            "Requirement already satisfied: cycler>=0.10 in /usr/local/lib/python3.7/dist-packages (from matplotlib->netpyne) (0.10.0)\n",
            "Requirement already satisfied: kiwisolver>=1.0.1 in /usr/local/lib/python3.7/dist-packages (from matplotlib->netpyne) (1.3.1)\n",
            "Requirement already satisfied: pytz>=2017.2 in /usr/local/lib/python3.7/dist-packages (from pandas->netpyne) (2018.9)\n",
            "Requirement already satisfied: six>=1.5 in /usr/local/lib/python3.7/dist-packages (from python-dateutil>=2.1->bokeh->netpyne) (1.15.0)\n",
            "Requirement already satisfied: MarkupSafe>=0.23 in /usr/local/lib/python3.7/dist-packages (from Jinja2>=2.9->bokeh->netpyne) (2.0.0)\n",
            "Installing collected packages: matplotlib-scalebar, netpyne\n",
            "Successfully installed matplotlib-scalebar-0.7.2 netpyne-1.0.0.2\n"
          ],
          "name": "stdout"
        }
      ]
    },
    {
      "cell_type": "markdown",
      "metadata": {
        "id": "B8vwz3jqLhrq"
      },
      "source": [
        "Import stuff"
      ]
    },
    {
      "cell_type": "code",
      "metadata": {
        "id": "BJdM7j6ALjwW"
      },
      "source": [
        "from netpyne import specs, sim\n",
        "netParams = specs.NetParams()\n",
        "simConfig = specs.SimConfig()"
      ],
      "execution_count": 2,
      "outputs": []
    },
    {
      "cell_type": "markdown",
      "metadata": {
        "id": "hIXifDMoMBmj"
      },
      "source": [
        "Define Cells"
      ]
    },
    {
      "cell_type": "code",
      "metadata": {
        "id": "-xtbsxNMMC96"
      },
      "source": [
        "netParams.cellParams['mn'] = {\n",
        "    \"conds\": {},\n",
        "    \"secs\": {\n",
        "        \"soma\": {\n",
        "            \"geom\": {\n",
        "                \"diam\": 20,\n",
        "                \"L\": 20,\n",
        "                \"Ra\": 100.0,\n",
        "                \"cm\": 1\n",
        "            },\n",
        "            \"mechs\": {\n",
        "                \"hh\": {\n",
        "                    \"gnabar\": 0.12,\n",
        "                    \"gkbar\": 0.036,\n",
        "                    \"gl\": 0.0003,\n",
        "                    \"el\": -54.3\n",
        "                }\n",
        "            }\n",
        "        }\n",
        "    }\n",
        "}"
      ],
      "execution_count": 3,
      "outputs": []
    },
    {
      "cell_type": "markdown",
      "metadata": {
        "id": "A1hRXclaMEF0"
      },
      "source": [
        "Define Pops"
      ]
    },
    {
      "cell_type": "code",
      "metadata": {
        "id": "b0pPjEy9MFrc"
      },
      "source": [
        "netParams.popParams['hip'] = {\n",
        "    \"cellModel\": \"\",\n",
        "    \"cellType\": \"mn\",\n",
        "    \"numCells\": 50,\n",
        "    \"xRange\": [\n",
        "        0,\n",
        "        100\n",
        "    ],\n",
        "    \"zRange\": [\n",
        "        0,\n",
        "        100\n",
        "    ],\n",
        "    \"yRange\": [\n",
        "        0,\n",
        "        500\n",
        "    ]\n",
        "}\n",
        "netParams.popParams['knee'] = {\n",
        "    \"cellModel\": \"\",\n",
        "    \"cellType\": \"mn\",\n",
        "    \"numCells\": 50,\n",
        "    \"yRange\": [\n",
        "        250,\n",
        "        750\n",
        "    ],\n",
        "    \"xRange\": [\n",
        "        0,\n",
        "        100\n",
        "    ],\n",
        "    \"zRange\": [\n",
        "        0,\n",
        "        100\n",
        "    ]\n",
        "}\n",
        "netParams.popParams['ankle'] = {\n",
        "    \"cellModel\": \"\",\n",
        "    \"cellType\": \"mn\",\n",
        "    \"numCells\": 50,\n",
        "    \"yRange\": [\n",
        "        500,\n",
        "        1000\n",
        "    ],\n",
        "    \"xRange\": [\n",
        "        0,\n",
        "        100\n",
        "    ],\n",
        "    \"zRange\": [\n",
        "        0,\n",
        "        100\n",
        "    ]\n",
        "}"
      ],
      "execution_count": 4,
      "outputs": []
    },
    {
      "cell_type": "markdown",
      "metadata": {
        "id": "jcPIGx8AM8tg"
      },
      "source": [
        "Specify Synapse"
      ]
    },
    {
      "cell_type": "code",
      "metadata": {
        "id": "fb1fjufvNCYd"
      },
      "source": [
        "netParams.synMechParams['ACh'] = {\n",
        "    \"mod\": \"Exp2Syn\",\n",
        "    \"tau1\": 0.1,\n",
        "    \"tau2\": 1,\n",
        "    \"e\": 0\n",
        "}"
      ],
      "execution_count": 5,
      "outputs": []
    },
    {
      "cell_type": "markdown",
      "metadata": {
        "id": "nk1U6icINSQ6"
      },
      "source": [
        "Specify Connectivity"
      ]
    },
    {
      "cell_type": "code",
      "metadata": {
        "id": "YApJsb7WNbBx"
      },
      "source": [
        "netParams.connParams['mn->mn'] = {\n",
        "    \"preConds\": {\n",
        "        \"cellType\": [\n",
        "            \"mn\"\n",
        "        ]\n",
        "    },\n",
        "    \"postConds\": {\n",
        "        \"cellType\": [\n",
        "            \"mn\"\n",
        "        ]\n",
        "    },\n",
        "    \"synsPerConn\": 1,\n",
        "    \"weight\": 0.005,\n",
        "    \"probability\": 0.1,\n",
        "    \"synMech\": \"ACh\",\n",
        "    \"delay\": 5\n",
        "}"
      ],
      "execution_count": 7,
      "outputs": []
    },
    {
      "cell_type": "markdown",
      "metadata": {
        "id": "-Q04G4P4NpAt"
      },
      "source": [
        "Simulation Configuration \n"
      ]
    },
    {
      "cell_type": "code",
      "metadata": {
        "id": "wpxvVLC_NQoi"
      },
      "source": [
        "simConfig.duration = 1.0\n",
        "# simConfig.analysis = {\n",
        "#     \"iplotConn\": {\n",
        "#         \"include\": [\n",
        "#             \"all\"\n",
        "#         ],\n",
        "#         \"feature\": \"weight\",\n",
        "#         \"groupBy\": \"cell\",\n",
        "#         \"showFig\": True,\n",
        "#         \"theme\": None,\n",
        "#         \"showConns\": False,\n",
        "#         \"orderBy\": \"y\"\n",
        "#     }\n",
        "# }"
      ],
      "execution_count": 8,
      "outputs": []
    },
    {
      "cell_type": "markdown",
      "metadata": {
        "id": "QkNZxGtbN-TC"
      },
      "source": [
        "Create and Run"
      ]
    },
    {
      "cell_type": "code",
      "metadata": {
        "colab": {
          "base_uri": "https://localhost:8080/"
        },
        "id": "WJdHo0aeN9VC",
        "outputId": "293f87df-86f5-4540-b7c2-6d58abf052a6"
      },
      "source": [
        "sim.createSimulateAnalyze(netParams=netParams, simConfig=simConfig)"
      ],
      "execution_count": 9,
      "outputs": [
        {
          "output_type": "stream",
          "text": [
            "\n",
            "Start time:  2021-05-19 20:02:04.381544\n",
            "\n",
            "Creating network of 3 cell populations on 1 hosts...\n",
            "  Number of cells on node 0: 150 \n",
            "  Done; cell creation time = 0.03 s.\n",
            "Making connections...\n",
            "  Number of connections on node 0: 2275 \n",
            "  Done; cell connection time = 0.31 s.\n",
            "  Number of stims on node 0: 0 \n",
            "  Done; cell stims creation time = 0.00 s.\n",
            "\n",
            "Running simulation for 1.0 ms...\n",
            "  Done; run time = 0.01 s; real-time ratio: 0.09.\n",
            "\n",
            "Gathering data...\n",
            "  Done; gather time = 0.10 s.\n",
            "\n",
            "Analyzing...\n",
            "  Cells: 150\n",
            "  Connections: 2275 (15.17 per cell)\n",
            "  Spikes: 0 (0.00 Hz)\n",
            "  Simulated time: 0.0 s; 1 workers\n",
            "  Run time: 0.01 s\n",
            "  Done; saving time = 0.03 s.\n",
            "  Done; plotting time = 0.00 s\n",
            "\n",
            "Total time = 0.49 s\n",
            "\n",
            "End time:  2021-05-19 20:02:04.869350\n"
          ],
          "name": "stdout"
        }
      ]
    },
    {
      "cell_type": "markdown",
      "metadata": {
        "id": "tcj5sgXaOLai"
      },
      "source": [
        "Explore Connectivity "
      ]
    },
    {
      "cell_type": "markdown",
      "metadata": {
        "id": "h9AFBkwyOQ6f"
      },
      "source": [
        "whos - displays all available variables"
      ]
    },
    {
      "cell_type": "code",
      "metadata": {
        "colab": {
          "base_uri": "https://localhost:8080/"
        },
        "id": "DIiUS_WdOI9O",
        "outputId": "324cc63a-b2f1-4d06-a3d6-75d3100bb279"
      },
      "source": [
        "whos"
      ],
      "execution_count": 10,
      "outputs": [
        {
          "output_type": "stream",
          "text": [
            "Variable    Type         Data/Info\n",
            "----------------------------------\n",
            "netParams   NetParams    <netpyne.specs.netParams.<...>object at 0x7f75a79866d0>\n",
            "sim         module       <module 'netpyne.sim' fro<...>netpyne/sim/__init__.py'>\n",
            "simConfig   SimConfig    <netpyne.specs.simConfig.<...>object at 0x7f75ac1b07d0>\n",
            "specs       module       <module 'netpyne.specs' f<...>tpyne/specs/__init__.py'>\n"
          ],
          "name": "stdout"
        }
      ]
    },
    {
      "cell_type": "code",
      "metadata": {
        "colab": {
          "base_uri": "https://localhost:8080/"
        },
        "id": "X17slQW5OOvG",
        "outputId": "e79a5a78-f016-4267-d0d9-86db6b41e516"
      },
      "source": [
        "sim.analysis.plot2Dnet()"
      ],
      "execution_count": 11,
      "outputs": [
        {
          "output_type": "stream",
          "text": [
            "Plotting 2D representation of network cell locations and connections...\n"
          ],
          "name": "stdout"
        },
        {
          "output_type": "execute_result",
          "data": {
            "text/plain": [
              "(<Figure size 864x864 with 1 Axes>,\n",
              " {'include': ['allCells'],\n",
              "  'posX': [80.39496061848594,\n",
              "   46.74614813487368,\n",
              "   2.7757975266371395,\n",
              "   1.1436362282504242,\n",
              "   98.97927609296066,\n",
              "   29.46589544195079,\n",
              "   38.74843233759784,\n",
              "   38.85773885090422,\n",
              "   87.7204566291253,\n",
              "   90.86015853312328,\n",
              "   47.32808041215686,\n",
              "   50.86925689809274,\n",
              "   26.510659412827653,\n",
              "   93.55926036519016,\n",
              "   48.95221785433772,\n",
              "   68.67446951366159,\n",
              "   42.92622712838319,\n",
              "   58.66442202621502,\n",
              "   34.19466322888744,\n",
              "   64.7228636861027,\n",
              "   51.98890940472742,\n",
              "   50.125435239140536,\n",
              "   44.06906661017121,\n",
              "   87.15295295995824,\n",
              "   52.607146172642906,\n",
              "   61.171598578530464,\n",
              "   56.170255910565544,\n",
              "   32.41252344278327,\n",
              "   11.130355109663132,\n",
              "   0.34228283903974044,\n",
              "   24.892359128014103,\n",
              "   64.99465888715473,\n",
              "   24.23255599005321,\n",
              "   34.88505044139804,\n",
              "   83.86424410066934,\n",
              "   58.16874204711785,\n",
              "   95.45356014383641,\n",
              "   67.03495211735485,\n",
              "   90.65969053407672,\n",
              "   50.00516624422624,\n",
              "   62.401088429055854,\n",
              "   72.93864170253774,\n",
              "   74.36521321666305,\n",
              "   62.596576460032594,\n",
              "   48.688002850700165,\n",
              "   24.912639724809527,\n",
              "   6.871772672312387,\n",
              "   58.892860715535264,\n",
              "   97.9325887519092,\n",
              "   42.52793918304892,\n",
              "   91.7840590952467,\n",
              "   78.93919633260481,\n",
              "   37.49140199797894,\n",
              "   60.79636198449965,\n",
              "   35.79907341958045,\n",
              "   63.5857609418254,\n",
              "   23.6910245791797,\n",
              "   33.50708097370642,\n",
              "   80.10333441661128,\n",
              "   95.11686205046324,\n",
              "   41.138639826993774,\n",
              "   5.548886976775506,\n",
              "   48.12528531809214,\n",
              "   45.76436445448446,\n",
              "   46.288443555522605,\n",
              "   39.781365278227874,\n",
              "   1.5819097865415015,\n",
              "   15.829138849901703,\n",
              "   88.7864181797983,\n",
              "   33.21363738896007,\n",
              "   12.367702598597925,\n",
              "   10.142896252185363,\n",
              "   22.970684798674032,\n",
              "   72.32454287066949,\n",
              "   37.560427622506296,\n",
              "   83.81024354980089,\n",
              "   84.65257119744723,\n",
              "   34.65529835441725,\n",
              "   98.95437478577848,\n",
              "   48.02479542605001,\n",
              "   58.16465705675896,\n",
              "   5.700918960920321,\n",
              "   71.76204708596644,\n",
              "   37.84890662928836,\n",
              "   99.07614889110529,\n",
              "   28.36004301710985,\n",
              "   6.578261380414883,\n",
              "   75.68887912768663,\n",
              "   11.846819610370597,\n",
              "   57.602844164333575,\n",
              "   6.8136170490613175,\n",
              "   33.209610257016124,\n",
              "   56.46741505328858,\n",
              "   1.946643436805661,\n",
              "   18.866194873380895,\n",
              "   25.756977003589977,\n",
              "   28.71155631059977,\n",
              "   45.15402278742892,\n",
              "   45.85165398990464,\n",
              "   54.475950949248876,\n",
              "   25.208207539932754,\n",
              "   9.701182458153651,\n",
              "   50.51568568439323,\n",
              "   0.12642177750206976,\n",
              "   80.29652911231469,\n",
              "   29.218440053700835,\n",
              "   28.49781866453173,\n",
              "   51.911988050697374,\n",
              "   11.353433874586264,\n",
              "   58.345988123131455,\n",
              "   68.6206603961483,\n",
              "   92.24361011473377,\n",
              "   65.87094060008624,\n",
              "   61.46744318272279,\n",
              "   74.67264277518898,\n",
              "   15.842023488170929,\n",
              "   94.1547549808969,\n",
              "   56.066884902290326,\n",
              "   61.43144039403846,\n",
              "   71.78330654935368,\n",
              "   88.09862858892916,\n",
              "   7.573095963435923,\n",
              "   95.48121506919125,\n",
              "   44.2924361805682,\n",
              "   94.4064626948893,\n",
              "   37.43210070826297,\n",
              "   73.87003668726653,\n",
              "   36.73494475969697,\n",
              "   32.71586251614711,\n",
              "   57.91524558842293,\n",
              "   1.2814029815417243,\n",
              "   61.30424231260451,\n",
              "   60.37188766981198,\n",
              "   53.012183692070614,\n",
              "   91.41803970760246,\n",
              "   84.3931885239684,\n",
              "   46.14557944095098,\n",
              "   36.99233482196174,\n",
              "   3.5883446448509706,\n",
              "   29.878201351995067,\n",
              "   69.11357520867288,\n",
              "   54.21298068151506,\n",
              "   11.2855512389714,\n",
              "   79.10784818718493,\n",
              "   29.09515685655755,\n",
              "   54.508990898144205,\n",
              "   47.278849047776575,\n",
              "   75.49875090469169,\n",
              "   9.760947686210054,\n",
              "   9.084058294751667],\n",
              "  'posXpost': 9.084058294751667,\n",
              "  'posXpre': 47.278849047776575,\n",
              "  'posY': [17.190591428151684,\n",
              "   296.6409929104519,\n",
              "   310.3514941617959,\n",
              "   160.30282116022357,\n",
              "   447.0030334901523,\n",
              "   397.31103195871435,\n",
              "   407.2141270369258,\n",
              "   359.68793780550175,\n",
              "   188.48273118760372,\n",
              "   75.00681407400248,\n",
              "   84.57240437050993,\n",
              "   244.674279297545,\n",
              "   458.26562366954386,\n",
              "   497.52835149468655,\n",
              "   45.915491984711146,\n",
              "   425.6322834581062,\n",
              "   287.6093766448066,\n",
              "   408.2406432348675,\n",
              "   412.73693486285936,\n",
              "   78.45209828148315,\n",
              "   354.6761212976007,\n",
              "   215.54647334489357,\n",
              "   436.45265956026213,\n",
              "   68.64587809689205,\n",
              "   29.06771364410694,\n",
              "   285.53438587451024,\n",
              "   66.81683169053476,\n",
              "   443.1302033031522,\n",
              "   318.39885008092995,\n",
              "   221.9668602985407,\n",
              "   111.96937898360906,\n",
              "   129.37647310798604,\n",
              "   145.99759582290483,\n",
              "   122.23310090549451,\n",
              "   168.94429650415103,\n",
              "   40.77838185690847,\n",
              "   89.80141787561556,\n",
              "   419.41140477559264,\n",
              "   447.59150409428605,\n",
              "   23.22043454665215,\n",
              "   227.07180347594624,\n",
              "   371.7807443179701,\n",
              "   124.44254287415126,\n",
              "   140.40227789888104,\n",
              "   353.7193596470823,\n",
              "   367.5647563376546,\n",
              "   467.20473399218065,\n",
              "   199.9656024389049,\n",
              "   284.07629118671724,\n",
              "   468.0646976996062,\n",
              "   724.7425038426317,\n",
              "   346.9124156756065,\n",
              "   388.95043401537686,\n",
              "   280.39250161256814,\n",
              "   391.054322677419,\n",
              "   269.7310727043703,\n",
              "   532.868569767366,\n",
              "   577.6295505166917,\n",
              "   482.4324169353506,\n",
              "   664.4593255095047,\n",
              "   254.71518537851162,\n",
              "   688.6485694119128,\n",
              "   285.9016095670169,\n",
              "   590.4276759036753,\n",
              "   667.2627917916368,\n",
              "   412.0304230223339,\n",
              "   469.0606560979363,\n",
              "   446.44750859671103,\n",
              "   563.656667640047,\n",
              "   716.1076810522686,\n",
              "   378.3135573313773,\n",
              "   321.5130732693912,\n",
              "   259.7389441193689,\n",
              "   419.59167698640573,\n",
              "   619.6576105734199,\n",
              "   691.4601018788619,\n",
              "   585.4179896797477,\n",
              "   451.90658951133804,\n",
              "   705.8185731396502,\n",
              "   541.1645250182681,\n",
              "   681.7467791420066,\n",
              "   421.6328762304893,\n",
              "   391.87258967620494,\n",
              "   526.3303159092716,\n",
              "   373.82951853242014,\n",
              "   329.1439520942178,\n",
              "   461.49624611449053,\n",
              "   272.3542911646994,\n",
              "   543.2070525611734,\n",
              "   325.76089990889636,\n",
              "   748.4031235802911,\n",
              "   424.00889420555694,\n",
              "   298.908278567505,\n",
              "   651.8557742466554,\n",
              "   635.0680485169711,\n",
              "   503.3276929163077,\n",
              "   250.0610875431306,\n",
              "   686.4919721995266,\n",
              "   368.8604547365428,\n",
              "   558.2919489107346,\n",
              "   569.0069063405955,\n",
              "   701.8028189889615,\n",
              "   745.0977385171927,\n",
              "   715.3513461315653,\n",
              "   815.9177310727728,\n",
              "   902.2614688374425,\n",
              "   818.799886661861,\n",
              "   881.9126382279414,\n",
              "   780.1722111692252,\n",
              "   855.3695238997765,\n",
              "   863.6011192892674,\n",
              "   502.94165289892317,\n",
              "   944.7608781175779,\n",
              "   804.6940833319225,\n",
              "   593.7931353473587,\n",
              "   506.640971636716,\n",
              "   547.5735590915258,\n",
              "   964.4858384354771,\n",
              "   752.9056511696182,\n",
              "   658.5880664273659,\n",
              "   585.3024134213798,\n",
              "   546.530931013047,\n",
              "   593.9950470128108,\n",
              "   507.58083746592024,\n",
              "   588.4983757071899,\n",
              "   593.0924163914536,\n",
              "   885.767203200197,\n",
              "   765.0783792452239,\n",
              "   803.7854204178356,\n",
              "   753.3093330559067,\n",
              "   732.0646022604627,\n",
              "   813.4314445048963,\n",
              "   835.1141657132855,\n",
              "   735.4484809945691,\n",
              "   788.6542986872014,\n",
              "   864.0794024420718,\n",
              "   658.3526021199411,\n",
              "   846.5408444529071,\n",
              "   979.1392642121903,\n",
              "   936.7193610089087,\n",
              "   868.956143532657,\n",
              "   928.3736464734251,\n",
              "   956.3027519135962,\n",
              "   930.569749923756,\n",
              "   626.7310558756043,\n",
              "   762.8156424586624,\n",
              "   598.6019029285288,\n",
              "   539.2182378472718,\n",
              "   549.4637071272675,\n",
              "   884.6052501153654],\n",
              "  'posYpost': 884.6052501153654,\n",
              "  'posYpre': 598.6019029285288})"
            ]
          },
          "metadata": {
            "tags": []
          },
          "execution_count": 11
        }
      ]
    },
    {
      "cell_type": "code",
      "metadata": {
        "id": "huTEdE1oOoDU"
      },
      "source": [
        ""
      ],
      "execution_count": null,
      "outputs": []
    }
  ]
}