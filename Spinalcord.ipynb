{
  "nbformat": 4,
  "nbformat_minor": 0,
  "metadata": {
    "colab": {
      "name": "Spinalcord.ipynb",
      "provenance": [],
      "authorship_tag": "ABX9TyMc/+XVdXNPXEEMiKWVrcQx",
      "include_colab_link": true
    },
    "kernelspec": {
      "name": "python3",
      "display_name": "Python 3"
    },
    "language_info": {
      "name": "python"
    }
  },
  "cells": [
    {
      "cell_type": "markdown",
      "metadata": {
        "id": "view-in-github",
        "colab_type": "text"
      },
      "source": [
        "<a href=\"https://colab.research.google.com/github/SuranjanaGupta/NetPyNE_Course_May2021/blob/main/Spinalcord.ipynb\" target=\"_parent\"><img src=\"https://colab.research.google.com/assets/colab-badge.svg\" alt=\"Open In Colab\"/></a>"
      ]
    },
    {
      "cell_type": "markdown",
      "metadata": {
        "id": "nbGBUVFvMS7v"
      },
      "source": [
        "Install Software"
      ]
    },
    {
      "cell_type": "code",
      "metadata": {
        "id": "Nh_Ctf8MKinE"
      },
      "source": [
        "!pip install neuron\n",
        "!pip install netpyne"
      ],
      "execution_count": null,
      "outputs": []
    },
    {
      "cell_type": "markdown",
      "metadata": {
        "id": "B8vwz3jqLhrq"
      },
      "source": [
        "Import stuff"
      ]
    },
    {
      "cell_type": "code",
      "metadata": {
        "id": "BJdM7j6ALjwW"
      },
      "source": [
        "from netpyne import specs, sim\n",
        "netParams = specs.NetParams()\n",
        "simConfig = specs.SimConfig()"
      ],
      "execution_count": null,
      "outputs": []
    },
    {
      "cell_type": "markdown",
      "metadata": {
        "id": "hIXifDMoMBmj"
      },
      "source": [
        "Define Cells"
      ]
    },
    {
      "cell_type": "code",
      "metadata": {
        "id": "-xtbsxNMMC96"
      },
      "source": [
        "netParams.cellParams['mn'] = {\n",
        "    \"conds\": {},\n",
        "    \"secs\": {\n",
        "        \"soma\": {\n",
        "            \"geom\": {\n",
        "                \"diam\": 20,\n",
        "                \"L\": 20,\n",
        "                \"Ra\": 100.0,\n",
        "                \"cm\": 1\n",
        "            },\n",
        "            \"mechs\": {\n",
        "                \"hh\": {\n",
        "                    \"gnabar\": 0.12,\n",
        "                    \"gkbar\": 0.036,\n",
        "                    \"gl\": 0.0003,\n",
        "                    \"el\": -54.3\n",
        "                }\n",
        "            }\n",
        "        }\n",
        "    }\n",
        "}"
      ],
      "execution_count": null,
      "outputs": []
    },
    {
      "cell_type": "markdown",
      "metadata": {
        "id": "A1hRXclaMEF0"
      },
      "source": [
        "Define Pops"
      ]
    },
    {
      "cell_type": "code",
      "metadata": {
        "id": "b0pPjEy9MFrc"
      },
      "source": [
        "netParams.popParams['hip'] = {\n",
        "    \"cellModel\": \"\",\n",
        "    \"cellType\": \"mn\",\n",
        "    \"numCells\": 50,\n",
        "    \"xRange\": [\n",
        "        0,\n",
        "        100\n",
        "    ],\n",
        "    \"zRange\": [\n",
        "        0,\n",
        "        100\n",
        "    ],\n",
        "    \"yRange\": [\n",
        "        0,\n",
        "        500\n",
        "    ]\n",
        "}\n",
        "netParams.popParams['knee'] = {\n",
        "    \"cellModel\": \"\",\n",
        "    \"cellType\": \"mn\",\n",
        "    \"numCells\": 50,\n",
        "    \"yRange\": [\n",
        "        250,\n",
        "        750\n",
        "    ],\n",
        "    \"xRange\": [\n",
        "        0,\n",
        "        100\n",
        "    ],\n",
        "    \"zRange\": [\n",
        "        0,\n",
        "        100\n",
        "    ]\n",
        "}\n",
        "netParams.popParams['ankle'] = {\n",
        "    \"cellModel\": \"\",\n",
        "    \"cellType\": \"mn\",\n",
        "    \"numCells\": 50,\n",
        "    \"yRange\": [\n",
        "        500,\n",
        "        1000\n",
        "    ],\n",
        "    \"xRange\": [\n",
        "        0,\n",
        "        100\n",
        "    ],\n",
        "    \"zRange\": [\n",
        "        0,\n",
        "        100\n",
        "    ]\n",
        "}"
      ],
      "execution_count": null,
      "outputs": []
    }
  ]
}